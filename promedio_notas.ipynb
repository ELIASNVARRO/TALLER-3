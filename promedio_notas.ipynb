{
  "nbformat": 4,
  "nbformat_minor": 0,
  "metadata": {
    "colab": {
      "provenance": [],
      "authorship_tag": "ABX9TyMyw4MYIPohqz1HeK/E6g7z",
      "include_colab_link": true
    },
    "kernelspec": {
      "name": "python3",
      "display_name": "Python 3"
    },
    "language_info": {
      "name": "python"
    }
  },
  "cells": [
    {
      "cell_type": "markdown",
      "metadata": {
        "id": "view-in-github",
        "colab_type": "text"
      },
      "source": [
        "<a href=\"https://colab.research.google.com/github/ELIASNVARRO/TALLER-4/blob/main/promedio_notas.ipynb\" target=\"_parent\"><img src=\"https://colab.research.google.com/assets/colab-badge.svg\" alt=\"Open In Colab\"/></a>"
      ]
    },
    {
      "cell_type": "code",
      "source": [
        "total_notas = 0\n",
        "total_peso = 0\n",
        "\n",
        "while True:\n",
        "    entrada_usuario = input(\"Ingrese la nota : \")\n",
        "    try:\n",
        "        nota = float(entrada_usuario)\n",
        "        peso = float(input(\"Ingrese el peso de la nota: \"))\n",
        "        total_notas += nota * peso\n",
        "        total_peso += peso\n",
        "        continuar = input(\"¿Desea ingresar otra nota? (S/N): \")\n",
        "        if continuar != \"S\":\n",
        "            break\n",
        "    except ValueError:\n",
        "        print(\"Ingrese un valor numérico válido.\")\n",
        "\n",
        "if total_peso > 0:\n",
        "    promedio_notas = total_notas / total_peso\n",
        "    print(\"El promedio es:\", promedio_notas)\n",
        "else:\n",
        "    print(\"No se ingresaron notas.\")"
      ],
      "metadata": {
        "colab": {
          "base_uri": "https://localhost:8080/"
        },
        "id": "_GIMntY5QgK4",
        "outputId": "de99f745-ceb4-4e0a-9b67-9b9f80465f8a"
      },
      "execution_count": 1,
      "outputs": [
        {
          "output_type": "stream",
          "name": "stdout",
          "text": [
            "Ingrese la nota : 4\n",
            "Ingrese el peso de la nota: 4\n",
            "¿Desea ingresar otra nota? (S/N): n\n",
            "El promedio es: 4.0\n"
          ]
        }
      ]
    },
    {
      "cell_type": "markdown",
      "source": [
        "ALGORITMO PROGRAMA CALCULADOR DE PROMEDIO DE NOTAS\n",
        "1. Iniciar\n",
        "2. Inicializar total_notas en 0\n",
        "2. Inicializar total_peso en 0\n",
        "3. Iniciar un bucle infinito\n",
        "4. Solicitar al usuario que ingrese la nota\n",
        "5. Intentar convertir la entrada a float y asignar a nota\n",
        "8. Solicitar al usuario que ingrese el peso de la nota\n",
        "9. Convertir la entrada a float y asignar a peso\n",
        "10. Aumentar total_notas sumando nota * peso\n",
        "11. Aumentar total_peso sumando peso\n",
        "12. Preguntar si desea ingresar otra nota (S/N) 13. Si la respuesta no es \"S\": Romper el bucle\n",
        "13. Si el valor ingresado no es un numero:\n",
        "Mostrar mensaje \"Ingrese un valor numérico válido.\"\n",
        "14. Si total_peso es mayor que 0:\n",
        "Calcular promedio_notas como total_notas / total_peso\n",
        "15. Mostrar \"El promedio es:\" seguido del valor de promedio_notas\n",
        "Sino:\n",
        "Mostrar \"No se ingresaron notas.\"\n",
        "16. Finalizar\n",
        "\n",
        "\n",
        "´´´\n",
        "PSEUDOCODIGO PROGRAMA CALCULADOR DE PROMEDIO DE NOTAS\n",
        "start\n",
        "// PROGRAMA PARA CALCULAR EL PROMEDIO PONDERADO\n",
        "\n",
        "// DECLARACIÓN DE VARIABLES\n",
        "declare float promedio_notas = 0\n",
        "declare float total_peso = 0\n",
        "declare float total_notas = 0\n",
        "declare string entrada_usuario\n",
        "declare float nota\n",
        "declare float peso\n",
        "\n",
        "// INGRESO DE DATOS\n",
        "while true do\n",
        "    display \"Ingrese la nota:\"\n",
        "    Input entrada\n",
        "\n",
        "// INTENTAR CONVERTIR EN NÚMERO\n",
        "    try\n",
        "        set nota = float(entrada_usuario)\n",
        "        display \"Ingrese el peso de la nota:\"\n",
        "        Input peso\n",
        "        set total_notas = total_notas + (nota * peso)\n",
        "        set total_peso = total_peso + peso\n",
        "    catch ValueError\n",
        "        display \"Ingrese un valor numérico válido.\"\n",
        "    end try\n",
        "end while\n",
        "\n",
        "// CALCULAR Y MOSTRAR RESULTADOS\n",
        "if total_peso > 0 then\n",
        "    set promedio_ponderado = total_ponderado / total_peso\n",
        "    display \"El promedio ponderado es:\", promedio_ponderado\n",
        "else\n",
        "    display \"No se ingresaron notas.\"\n",
        "end if\n",
        "\n",
        "End\n",
        "´´´\n"
      ],
      "metadata": {
        "id": "F2x46xilQgce"
      }
    }
  ]
}