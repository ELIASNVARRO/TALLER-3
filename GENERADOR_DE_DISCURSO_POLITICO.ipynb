{
  "nbformat": 4,
  "nbformat_minor": 0,
  "metadata": {
    "colab": {
      "provenance": [],
      "authorship_tag": "ABX9TyMfLluE31k7sLio7lehUZfR",
      "include_colab_link": true
    },
    "kernelspec": {
      "name": "python3",
      "display_name": "Python 3"
    },
    "language_info": {
      "name": "python"
    }
  },
  "cells": [
    {
      "cell_type": "markdown",
      "metadata": {
        "id": "view-in-github",
        "colab_type": "text"
      },
      "source": [
        "<a href=\"https://colab.research.google.com/github/ELIASNVARRO/TALLER-4/blob/main/GENERADOR_DE_DISCURSO_POLITICO.ipynb\" target=\"_parent\"><img src=\"https://colab.research.google.com/assets/colab-badge.svg\" alt=\"Open In Colab\"/></a>"
      ]
    },
    {
      "cell_type": "code",
      "execution_count": 4,
      "metadata": {
        "colab": {
          "base_uri": "https://localhost:8080/"
        },
        "id": "OZP0OW6bQZ4d",
        "outputId": "6009977c-4a1a-4c29-a471-641df85e539c"
      },
      "outputs": [
        {
          "output_type": "stream",
          "name": "stdout",
          "text": [
            " Honorables Electos Con su apoyo Lucharé contra La inflacion y Defenderé La paz De la ciudad \n",
            "\n"
          ]
        }
      ],
      "source": [
        "import random\n",
        "\n",
        "titulo = [\"Queridos\", \"Apreciados\", \"Distinguidos\", \"Honorables\", \"Estimados\", \"Respetados\"]\n",
        "publico = [\"Compatriotas\", \"Amigos\", \"Coterraneos\", \"Conciudadanos\", \"Electos\"]\n",
        "condicion = [\"En mi gobierno\", \"Con su apoyo\", \"Siendo elegido\", \"Con su ayuda\", \"Si me siguen\", \"Durante mi mandato\"]\n",
        "compromiso = [\"Voy a derrotar\", \"Venceré\", \"Eliminaré\", \"Acabaré\", \"Lucharé contra\", \"Combatiré\"]\n",
        "ilusion = [\"La violencia y\", \"La delincuencia y\", \"La corrupcion y\", \"La inflacion y\", \"La pobreza y\", \"El desplazamiento y\"]\n",
        "promesa = [\"Trabajaré por\", \"Garantizaré\", \"Protegeré\", \"Velare por\", \"Promoveré\", \"Defenderé\"]\n",
        "beneficio = [\"La educacion\", \"El empleo\", \"La seguridad\", \"La paz\", \"La igualdad\", \"La salud\"]\n",
        "dependencias = [\"Del pais\", \"De la ciudad\", \"De la comunidad\", \"De la poblacion\", \"Para toda la gente\", \"De cada colombiano\"]\n",
        "\n",
        "elementos = [titulo, publico, condicion, compromiso, ilusion, promesa, beneficio, dependiendo]\n",
        "discurso=\" \"\n",
        "\n",
        "for i in range(1):\n",
        "  for elemento in elementos:\n",
        "    discurso += random.choice(elemento) + \" \"\n",
        "  discurso += \"\\n\"\n",
        "print(discurso)"
      ]
    },
    {
      "cell_type": "markdown",
      "source": [
        "### algoritmo para generador de discurso politico\n",
        "\n",
        "1. iniciar\n",
        "2. definir lista de variables como titulo, publico, condiciones, compromisos, iluciones, promesas, beneficios y dependencias\n",
        "3. crear una lista que contenga todas las lista llamada (elementos)\n",
        "4. iniciar una variable de cadena vacia llamada discurso\n",
        "5. para generar el discurso, recorrer una vez un buble que: para cada lista de elementos, seleccionar aleatoriamente un elemento de la lista y añadirlo a la variable discurso, asi recorrer todas las listas y luego de estos agregrar un salto de linea al final del discurso\n",
        "6. mostrar el discurso\n",
        "7. finalizar\n",
        "\n",
        "````\n",
        "pseudocodigo\n",
        "\n",
        "//program para generador de discurso politico\n",
        "\n",
        "start\n",
        "\n",
        "// Declarar las listas de elementos\n",
        "\n",
        "Declare list titulos = [\"Queridos\", \"Apreciados\", \"Distinguidos\", \"Honorables\", \"Estimados\", \"Respetados\"]\n",
        "\n",
        "Declare list publico = [\"compatriotas\", \"copartidarios\", \"amigos\", \"coterraneos\", \"conciudadanos\", \"electores\"]\n",
        "\n",
        "Declare list condicion = [\"en mi gobierno\", \"Con su apoyo\", \"siendo elegido\", \"con su ayuda\", \"si me siguen\", \"durante mi mandato\"]\n",
        "\n",
        "Declare list compromisos = [\"voy a derrotar\", \"venceré\", \"eliminaré\", \"acabaré\", \"lucharé contra\", \"combatiré\"]\n",
        "\n",
        "Declare list lucha = [\"la violencia y\", \"La delincuencia y\", \"La corrupción y\", \"La inflación y\", \"La pobreza y\", \"El hambre y\"]\n",
        "\n",
        "Declare list promesa = [\"trabajaré por\", \"garantizaré\", \"protegeré\", \"velaré por\", \"promoveré\", \"defenderé\"]\n",
        "\n",
        "Declare list beneficio = [\"la educación\", \"el empleo\", \"la seguridad\", \"la paz\", \"la igualdad\", \"la salud\"]\n",
        "\n",
        "Declare list dependencias = [\"del país\", \"de la ciudad\", \"de la comunidad\", \"de la población\", \"para toda la gente\", \"de cada colombiano\"]\n",
        "\n",
        "// Declarar las variables para almacenar las selecciones\n",
        "Declare String titulo\n",
        "Declare String audiencia\n",
        "Declare String condicion\n",
        "Declare String compromiso\n",
        "Declare String ilusion\n",
        "Declare String promesa\n",
        "Declare String beneficio\n",
        "Declare String dependencias\n",
        "\n",
        "// Seleccionar aleatoriamente valores de cada lista\n",
        "Set titulo = seleccionar aleatoriamente titulos\n",
        "Set audiencia = seleccionar aleatoriamente publico\n",
        "Set condicion = seleccionar aleatoriamente condicion\n",
        "Set compromiso = seleccionar aleatoriamente compromisos\n",
        "Set ilusion = seleccionar aleatoriamente lucha\n",
        "Set promesa = seleccionar aleatoriamente promesa\n",
        "Set beneficio = seleccionar aleatoriamente beneficio\n",
        "Set dependencias = seleccionar aleatoriamente dependencia\n",
        "\n",
        "// Construir el discurso combinando las selecciones\n",
        "Declare String discurso\n",
        "Set discurso = titulo + \" \" + audiencia + \", \" + condicion + \", \" + compromiso + \" \" + ilusion + \" \" + promesa + \" \" + beneficio + \" \" + dependencias + \".\"\n",
        "\n",
        "// Mostrar el discurso generado\n",
        "Display discurso\n",
        "\n",
        "End\n",
        "````\n"
      ],
      "metadata": {
        "id": "AARiBFJHQx4q"
      }
    }
  ]
}